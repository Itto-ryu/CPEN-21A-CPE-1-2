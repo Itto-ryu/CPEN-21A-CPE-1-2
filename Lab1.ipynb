{
  "nbformat": 4,
  "nbformat_minor": 0,
  "metadata": {
    "colab": {
      "name": "Lab1.ipynb",
      "provenance": [],
      "authorship_tag": "ABX9TyN4uIkcJhKJL69QKKGsFGp9",
      "include_colab_link": true
    },
    "kernelspec": {
      "name": "python3",
      "display_name": "Python 3"
    },
    "language_info": {
      "name": "python"
    }
  },
  "cells": [
    {
      "cell_type": "markdown",
      "metadata": {
        "id": "view-in-github",
        "colab_type": "text"
      },
      "source": [
        "<a href=\"https://colab.research.google.com/github/Itto-ryu/CPEN21A-Basic-Prog.-Test/blob/main/Lab1.ipynb\" target=\"_parent\"><img src=\"https://colab.research.google.com/assets/colab-badge.svg\" alt=\"Open In Colab\"/></a>"
      ]
    },
    {
      "cell_type": "code",
      "metadata": {
        "colab": {
          "base_uri": "https://localhost:8080/"
        },
        "id": "zaOWZEbf34YO",
        "outputId": "fbd4674e-ff3c-4a92-bdae-4f819e895cc0"
      },
      "source": [
        "x=\"Python Programming\"\n",
        "print(\"Welcome to \" +x)"
      ],
      "execution_count": 7,
      "outputs": [
        {
          "output_type": "stream",
          "name": "stdout",
          "text": [
            "Welcome to Python Programming\n"
          ]
        }
      ]
    },
    {
      "cell_type": "code",
      "metadata": {
        "colab": {
          "base_uri": "https://localhost:8080/"
        },
        "id": "3K0MWuDU43zD",
        "outputId": "d6ac07da-e481-44a4-9cf6-e9d7283b2393"
      },
      "source": [
        "name=\"Ryu B. Santos\"\n",
        "address=\"Springtown Villas, Brgy. Bucal, Tanza, Cavite\"\n",
        "address2=\"Phase 1, BLK 31 LOT 27\"\n",
        "age=\"18 years old\"\n",
        "print(\"Greetings, I am \"+name +\".\")\n",
        "print(\"I am currently living my life as an \"+age +\".\")\n",
        "print(\"And, my home is located at \"+address +\",\" +\"and my address is \"+address2 +\".\")"
      ],
      "execution_count": 14,
      "outputs": [
        {
          "output_type": "stream",
          "name": "stdout",
          "text": [
            "Greetings, I am Ryu B. Santos.\n",
            "I am currently living my life as an 18 years old.\n",
            "And, my home is located at Springtown Villas, Brgy. Bucal, Tanza, Cavite,and my address is Phase 1, BLK 31 LOT 27.\n"
          ]
        }
      ]
    }
  ]
}