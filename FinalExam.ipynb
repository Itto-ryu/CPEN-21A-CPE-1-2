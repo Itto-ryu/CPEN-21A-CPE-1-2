{
  "nbformat": 4,
  "nbformat_minor": 0,
  "metadata": {
    "colab": {
      "name": "FinalExam.ipynb",
      "provenance": [],
      "authorship_tag": "ABX9TyMb2/D+pjl9VpX1I7lrqtb2",
      "include_colab_link": true
    },
    "kernelspec": {
      "name": "python3",
      "display_name": "Python 3"
    },
    "language_info": {
      "name": "python"
    }
  },
  "cells": [
    {
      "cell_type": "markdown",
      "metadata": {
        "id": "view-in-github",
        "colab_type": "text"
      },
      "source": [
        "<a href=\"https://colab.research.google.com/github/Itto-ryu/CPEN-21A-CPE-1-2/blob/main/FinalExam.ipynb\" target=\"_parent\"><img src=\"https://colab.research.google.com/assets/colab-badge.svg\" alt=\"Open In Colab\"/></a>"
      ]
    },
    {
      "cell_type": "markdown",
      "source": [
        "###Problem 1"
      ],
      "metadata": {
        "id": "5uxogz_a6ma6"
      }
    },
    {
      "cell_type": "code",
      "execution_count": 9,
      "metadata": {
        "colab": {
          "base_uri": "https://localhost:8080/"
        },
        "id": "QX7ReIZo6ZP3",
        "outputId": "2044d0f8-2610-4576-992f-c55d07178748"
      },
      "outputs": [
        {
          "output_type": "stream",
          "name": "stdout",
          "text": [
            "-5\n",
            "-9\n",
            "-12\n",
            "-14\n",
            "-15\n",
            "-15\n",
            "-14\n",
            "-12\n",
            "-9\n",
            "-5\n"
          ]
        }
      ],
      "source": [
        "n=[-5, -4, -3, -2, -1, 0, 1, 2, 3, 4]\n",
        "sum=0\n",
        "\n",
        "for x in n:\n",
        "  sum+=x\n",
        "  print(sum)"
      ]
    },
    {
      "cell_type": "markdown",
      "source": [
        "###Problem 2"
      ],
      "metadata": {
        "id": "-8BVTJLG6lZM"
      }
    },
    {
      "cell_type": "code",
      "source": [
        "n=1\n",
        "while n<=5:\n",
        "  x=int(input())\n",
        "  if n==1:\n",
        "    a=x\n",
        "  if n==5:\n",
        "    b=x\n",
        "  n+=1\n",
        "print(a+b)"
      ],
      "metadata": {
        "colab": {
          "base_uri": "https://localhost:8080/"
        },
        "id": "jx97TyD48BCx",
        "outputId": "b0379481-ab13-4acc-bb53-d1646b215f63"
      },
      "execution_count": 13,
      "outputs": [
        {
          "output_type": "stream",
          "name": "stdout",
          "text": [
            "1\n",
            "2\n",
            "3\n",
            "4\n",
            "5\n",
            "6\n"
          ]
        }
      ]
    },
    {
      "cell_type": "markdown",
      "source": [
        "###Problem 3"
      ],
      "metadata": {
        "id": "znCpGC959Hjo"
      }
    },
    {
      "cell_type": "code",
      "source": [
        "grade=int(input(\"Enter your grade here:\"))\n",
        "\n",
        "if grade>=60:\n",
        "  if grade>=60 and grade<=69:\n",
        "    print(\"D\")\n",
        "  elif grade>=70 and grade <=79:\n",
        "    print(\"C\")\n",
        "  elif grade>=80 and grade<=89:\n",
        "    print(\"B\")\n",
        "  else:\n",
        "    print(\"A\")\n",
        "else:\n",
        "  print(\"F\")"
      ],
      "metadata": {
        "colab": {
          "base_uri": "https://localhost:8080/"
        },
        "id": "jZvUC7-n9I-P",
        "outputId": "113353e2-e879-4518-84ac-f67ae3567467"
      },
      "execution_count": 15,
      "outputs": [
        {
          "output_type": "stream",
          "name": "stdout",
          "text": [
            "Enter your grade here:93\n",
            "A\n"
          ]
        }
      ]
    }
  ]
}