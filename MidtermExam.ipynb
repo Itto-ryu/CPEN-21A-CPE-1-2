{
  "nbformat": 4,
  "nbformat_minor": 0,
  "metadata": {
    "colab": {
      "name": "MidtermExam.ipynb",
      "provenance": [],
      "authorship_tag": "ABX9TyP2emhdwTp78DwbIt7J+OCr",
      "include_colab_link": true
    },
    "kernelspec": {
      "name": "python3",
      "display_name": "Python 3"
    },
    "language_info": {
      "name": "python"
    }
  },
  "cells": [
    {
      "cell_type": "markdown",
      "metadata": {
        "id": "view-in-github",
        "colab_type": "text"
      },
      "source": [
        "<a href=\"https://colab.research.google.com/github/Itto-ryu/CPEN-21A-CPE-1-2/blob/main/MidtermExam.ipynb\" target=\"_parent\"><img src=\"https://colab.research.google.com/assets/colab-badge.svg\" alt=\"Open In Colab\"/></a>"
      ]
    },
    {
      "cell_type": "markdown",
      "metadata": {
        "id": "FWQPO0sbMtUp"
      },
      "source": [
        "#####MIDTERM EXAM"
      ]
    },
    {
      "cell_type": "markdown",
      "metadata": {
        "id": "kOxcyWFwBl04"
      },
      "source": [
        "###Problem Statement **1**."
      ]
    },
    {
      "cell_type": "code",
      "metadata": {
        "colab": {
          "base_uri": "https://localhost:8080/"
        },
        "id": "xsVLmKuXBr4J",
        "outputId": "72ba4fbe-cbf6-4c13-9177-6938ceb4860e"
      },
      "source": [
        "name=\"Ryu B. Santos\"\n",
        "stdno=\"202101925\"\n",
        "age=\"18\"\n",
        "brth=\"February 11, 2003\"\n",
        "addr=\"Phase 1, BLK 31 LOT 27, Springtown Villas, Brgy. Bucal, Tanza, Cavite\"\n",
        "crs=\"Bachelor of Science in Computer Engineering\"\n",
        "gwa=\"94\"\n",
        "\n",
        "print(\"Hi, I am \"+name +\".\")\n",
        "print(\"I am \"+age +\", \"+\"and my birthdate is \"+brth +\".\")\n",
        "print(\"I currently live in \"+addr +\".\")\n",
        "print(\"I major in \"+crs +\", \"+\"and my student number is \"+stdno +\".\")\n",
        "print(\"Lastly, my past GWA in 12th grade is \"+gwa +\".\")"
      ],
      "execution_count": 7,
      "outputs": [
        {
          "output_type": "stream",
          "name": "stdout",
          "text": [
            "Hi, I am Ryu B. Santos.\n",
            "I am 18, and my birthdate is February 11, 2003.\n",
            "I currently live in Phase 1, BLK 31 LOT 27, Springtown Villas, Brgy. Bucal, Tanza, Cavite.\n",
            "I major in Bachelor of Science in Computer Engineering, and my student number is 202101925.\n",
            "Lastly, my past GWA in 12th grade is 94.\n"
          ]
        }
      ]
    },
    {
      "cell_type": "markdown",
      "metadata": {
        "id": "xxgVnay0Ew_Y"
      },
      "source": [
        "###Problem Statement 2."
      ]
    },
    {
      "cell_type": "code",
      "metadata": {
        "colab": {
          "base_uri": "https://localhost:8080/"
        },
        "id": "FvCIYMynE3Rx",
        "outputId": "fb52919d-16e3-4564-fa75-9ab489e19464"
      },
      "source": [
        "n=4\n",
        "answ=\"Y\"\n",
        "\n",
        "print(bool(2<n) and (n<6)) #a.\n",
        "print(bool(2<n) or (n==6)) #b.\n",
        "print(bool(not(2<n) or (n==6))) #c.\n",
        "print(bool(not(n<6))) #d.\n",
        "print(bool(answ==\"Y\") or (answ==\"y\")) #e.\n",
        "print(bool(answ==\"Y\") and (answ==\"y\")) #f.\n",
        "print(bool(not answ==\"y\")) #g.\n",
        "print(bool(2<n) and (n==5+1) or (answ==\"No\")) #h.\n",
        "print(bool(n==2) and (n==7) or (answ==\"Y\")) #i.\n",
        "print(bool(n==2) and ((n==7) or(answ==\"Y\"))) #g."
      ],
      "execution_count": 76,
      "outputs": [
        {
          "output_type": "stream",
          "name": "stdout",
          "text": [
            "True\n",
            "True\n",
            "False\n",
            "False\n",
            "True\n",
            "False\n",
            "True\n",
            "False\n",
            "True\n",
            "False\n"
          ]
        }
      ]
    },
    {
      "cell_type": "markdown",
      "metadata": {
        "id": "DrIcu7wyLSXZ"
      },
      "source": [
        "###Problem Statement 3."
      ]
    },
    {
      "cell_type": "code",
      "metadata": {
        "colab": {
          "base_uri": "https://localhost:8080/"
        },
        "id": "ss04m1GiLSEZ",
        "outputId": "d149fd86-082e-4b88-d593-3dcb9256572f"
      },
      "source": [
        "x=2 \n",
        "y=-3\n",
        "w=7\n",
        "z=-10\n",
        "\n",
        "print(x/y) #a.\n",
        "print(w/y/x) #b.\n",
        "print(z/y%x) #c.\n",
        "print(x%-y*w) #d.\n",
        "print(x%y) #e.\n",
        "print(z%w-y/x*5+5) #f.\n",
        "print(9-x%(2+y)) #g.\n",
        "print(z//w) #h.\n",
        "print((2+y)**2) #i.\n",
        "print(w/x*2) #j."
      ],
      "execution_count": 83,
      "outputs": [
        {
          "output_type": "stream",
          "name": "stdout",
          "text": [
            "-0.6666666666666666\n",
            "-1.1666666666666667\n",
            "1.3333333333333335\n",
            "14\n",
            "-1\n",
            "16.5\n",
            "9\n",
            "-2\n",
            "1\n",
            "7.0\n"
          ]
        }
      ]
    }
  ]
}