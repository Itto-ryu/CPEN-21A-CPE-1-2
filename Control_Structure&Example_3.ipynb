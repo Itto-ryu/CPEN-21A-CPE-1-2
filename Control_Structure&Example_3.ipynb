{
  "nbformat": 4,
  "nbformat_minor": 0,
  "metadata": {
    "colab": {
      "name": "Control Structure&Example 3.ipynb",
      "provenance": [],
      "authorship_tag": "ABX9TyMXkGwEsiOQTazEZtua+5iW",
      "include_colab_link": true
    },
    "kernelspec": {
      "name": "python3",
      "display_name": "Python 3"
    },
    "language_info": {
      "name": "python"
    }
  },
  "cells": [
    {
      "cell_type": "markdown",
      "metadata": {
        "id": "view-in-github",
        "colab_type": "text"
      },
      "source": [
        "<a href=\"https://colab.research.google.com/github/Itto-ryu/CPEN-21A-CPE-1-2/blob/main/Control_Structure%26Example_3.ipynb\" target=\"_parent\"><img src=\"https://colab.research.google.com/assets/colab-badge.svg\" alt=\"Open In Colab\"/></a>"
      ]
    },
    {
      "cell_type": "markdown",
      "metadata": {
        "id": "HvTluO98H4Oi"
      },
      "source": [
        "###If Statement"
      ]
    },
    {
      "cell_type": "code",
      "metadata": {
        "colab": {
          "base_uri": "https://localhost:8080/"
        },
        "id": "3a_ih1RGG6UY",
        "outputId": "faeabce4-f64d-44f0-95a6-70f10ff48145"
      },
      "source": [
        "a=15\n",
        "b=20\n",
        "\n",
        "if b>a:\n",
        "  print(\"b is greater than a\")"
      ],
      "execution_count": 1,
      "outputs": [
        {
          "output_type": "stream",
          "name": "stdout",
          "text": [
            "b is greater than a\n"
          ]
        }
      ]
    },
    {
      "cell_type": "markdown",
      "metadata": {
        "id": "Ib3ZsyeZISoi"
      },
      "source": [
        "###Elif Statement"
      ]
    },
    {
      "cell_type": "code",
      "metadata": {
        "colab": {
          "base_uri": "https://localhost:8080/"
        },
        "id": "62L35p9yIUhZ",
        "outputId": "b6ad0e84-82e0-47a8-cab0-763248914d31"
      },
      "source": [
        "a=150                                   #Change a value to a greater number\n",
        "b=20\n",
        "\n",
        "if b>a:\n",
        "  print(\"b is greater than a\")\n",
        "elif a>b:\n",
        "  print(\"a is greater than b\")"
      ],
      "execution_count": 3,
      "outputs": [
        {
          "output_type": "stream",
          "name": "stdout",
          "text": [
            "a is greater than b\n"
          ]
        }
      ]
    },
    {
      "cell_type": "markdown",
      "metadata": {
        "id": "N7iMUndFIyLK"
      },
      "source": [
        "###Else Statement"
      ]
    },
    {
      "cell_type": "code",
      "metadata": {
        "colab": {
          "base_uri": "https://localhost:8080/"
        },
        "id": "AmVjhVVqI0QS",
        "outputId": "68f432d1-73c3-415c-b6ef-4ff54e8f9d9e"
      },
      "source": [
        "a=150\n",
        "b=150\n",
        "\n",
        "if b>a:\n",
        "  print(\"b is greater than a\")\n",
        "elif a>b:\n",
        "  print(\"a is greater than b\")\n",
        "else:\n",
        "  print(\"a is equal to b\")"
      ],
      "execution_count": 4,
      "outputs": [
        {
          "output_type": "stream",
          "name": "stdout",
          "text": [
            "a is equal to b\n"
          ]
        }
      ]
    },
    {
      "cell_type": "markdown",
      "metadata": {
        "id": "9t4OK_aRJo9h"
      },
      "source": [
        "###Short Hand If Statement"
      ]
    },
    {
      "cell_type": "code",
      "metadata": {
        "id": "FmLp3YPkJ16C"
      },
      "source": [
        "#For one condition to execute\n",
        "\n",
        "a=15\n",
        "b=20\n",
        "\n",
        "if a>b: print(\"a is greater than b\")"
      ],
      "execution_count": null,
      "outputs": []
    },
    {
      "cell_type": "markdown",
      "metadata": {
        "id": "XIWbngPfKBlS"
      },
      "source": [
        "###Short Hand Else Statement"
      ]
    },
    {
      "cell_type": "code",
      "metadata": {
        "colab": {
          "base_uri": "https://localhost:8080/"
        },
        "id": "LDn5fE0lKAoh",
        "outputId": "de521880-3aad-4fba-b4ec-65e038c8b3d0"
      },
      "source": [
        "a=15\n",
        "b=20\n",
        "\n",
        "print(\"a is greater than b\") if a>b else print (\"b is greater than a\")"
      ],
      "execution_count": 6,
      "outputs": [
        {
          "output_type": "stream",
          "name": "stdout",
          "text": [
            "b is greater than a\n"
          ]
        }
      ]
    },
    {
      "cell_type": "markdown",
      "metadata": {
        "id": "wM4SOWTSKuWT"
      },
      "source": [
        "###And Logic Condition (&)\n",
        "#Both conditions are true"
      ]
    },
    {
      "cell_type": "code",
      "metadata": {
        "colab": {
          "base_uri": "https://localhost:8080/"
        },
        "id": "JmC_1PoOKus7",
        "outputId": "7da3846c-2110-4ee8-c093-b5e2c167401e"
      },
      "source": [
        "x=7\n",
        "\n",
        "if x>5 and x>6:\n",
        "  print(\"Both conditions are true\")"
      ],
      "execution_count": 8,
      "outputs": [
        {
          "output_type": "stream",
          "name": "stdout",
          "text": [
            "Both conditions are true\n"
          ]
        }
      ]
    },
    {
      "cell_type": "markdown",
      "metadata": {
        "id": "iXW6fE5rLW4D"
      },
      "source": [
        "###Or Logic Condition"
      ]
    },
    {
      "cell_type": "code",
      "metadata": {
        "colab": {
          "base_uri": "https://localhost:8080/"
        },
        "id": "bkIF1RVNLZcj",
        "outputId": "0450e679-392e-4417-e5bb-5ef0decb9e04"
      },
      "source": [
        "x=19\n",
        "\n",
        "if x>18 or x<15:\n",
        "  print(\"True\")\n",
        "\n",
        "x=18\n",
        "\n",
        "if x>18 or x<15:\n",
        "  print(\"True\")\n",
        "else:\n",
        "  print(\"False\")"
      ],
      "execution_count": 11,
      "outputs": [
        {
          "output_type": "stream",
          "name": "stdout",
          "text": [
            "True\n",
            "False\n"
          ]
        }
      ]
    },
    {
      "cell_type": "markdown",
      "metadata": {
        "id": "lxZtlQC0L-1N"
      },
      "source": [
        "###Nested If"
      ]
    },
    {
      "cell_type": "code",
      "metadata": {
        "colab": {
          "base_uri": "https://localhost:8080/"
        },
        "id": "1TpcsrUIMANd",
        "outputId": "2f7a65e9-34d6-4a4c-b0e6-6bc977d5cf5a"
      },
      "source": [
        "x=18\n",
        "\n",
        "if x>10:\n",
        "  print(\"Above 10\")\n",
        "  if x>20:\n",
        "    print(\"Above 20\")\n",
        "  else:\n",
        "    print(\"Below 20\")\n",
        "else:\n",
        "  print(\"x is less than 10\")"
      ],
      "execution_count": 12,
      "outputs": [
        {
          "output_type": "stream",
          "name": "stdout",
          "text": [
            "Above 10\n",
            "Below 20\n"
          ]
        }
      ]
    },
    {
      "cell_type": "markdown",
      "metadata": {
        "id": "uVTsG4qgM8o7"
      },
      "source": [
        "###Example 1"
      ]
    },
    {
      "cell_type": "code",
      "metadata": {
        "colab": {
          "base_uri": "https://localhost:8080/"
        },
        "id": "etXm9ZBkM6tk",
        "outputId": "f59d03dd-bd33-4139-d26d-6fab38662b33"
      },
      "source": [
        "age=18\n",
        "\n",
        "\n",
        "if age>=18:\n",
        "  print(\"You are qualified to vote\")\n",
        "else:\n",
        "  print(\"You are not qualified to vote\")\n",
        "\n",
        "age=17\n",
        "\n",
        "\n",
        "if age>=18:\n",
        "  print(\"You are qualified to vote\")\n",
        "else:\n",
        "  print(\"You are not qualified to vote\")\n",
        "\n",
        "age=int(input(\"Enter you age:\"))\n",
        "\n",
        "\n",
        "if age>=18:\n",
        "  print(\"You are qualified to vote\")\n",
        "else:\n",
        "  print(\"You are not qualified to vote\")"
      ],
      "execution_count": 15,
      "outputs": [
        {
          "output_type": "stream",
          "name": "stdout",
          "text": [
            "You are qualified to vote\n",
            "You are not qualified to vote\n",
            "Enter you age:19\n",
            "You are qualified to vote\n"
          ]
        }
      ]
    },
    {
      "cell_type": "markdown",
      "metadata": {
        "id": "jcVaIkT9NjwM"
      },
      "source": [
        "###Example 2"
      ]
    },
    {
      "cell_type": "code",
      "metadata": {
        "colab": {
          "base_uri": "https://localhost:8080/"
        },
        "id": "Kz9TOnQYNmQ8",
        "outputId": "0f08c6b4-d5ef-406a-e9c7-816ebe7a97f5"
      },
      "source": [
        "number=float(input(\"Enter the number:\"))\n",
        "\n",
        "if number==0:\n",
        "  print(\"Zero\")\n",
        "elif number>0:\n",
        "  print(\"Positive Number\")\n",
        "else:\n",
        "  print(\"Negative Number\")"
      ],
      "execution_count": 20,
      "outputs": [
        {
          "output_type": "stream",
          "name": "stdout",
          "text": [
            "Enter the number:-9\n",
            "Negative Number\n"
          ]
        }
      ]
    },
    {
      "cell_type": "markdown",
      "metadata": {
        "id": "VOcVK2KPOkes"
      },
      "source": [
        "###Example 3"
      ]
    },
    {
      "cell_type": "code",
      "metadata": {
        "colab": {
          "base_uri": "https://localhost:8080/"
        },
        "id": "-KNTw8heOos7",
        "outputId": "27fa1a8b-ca9f-4a42-ed3e-5063a24658b2"
      },
      "source": [
        "grades=float(input(\"Enter your grades:\"))\n",
        "\n",
        "if grades>=75:\n",
        "  print(\"Passed\")\n",
        "elif grades>74:\n",
        "  print(\"Remedial\")\n",
        "else:\n",
        "  print(\"Failed\")"
      ],
      "execution_count": 28,
      "outputs": [
        {
          "output_type": "stream",
          "name": "stdout",
          "text": [
            "Enter your grades:74.1\n",
            "Remedial\n"
          ]
        }
      ]
    }
  ]
}